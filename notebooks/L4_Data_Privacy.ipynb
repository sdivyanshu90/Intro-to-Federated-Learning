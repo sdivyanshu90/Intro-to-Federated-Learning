{
 "cells": [
  {
   "cell_type": "markdown",
   "id": "7292677e",
   "metadata": {},
   "source": [
    "# Lesson 4: Data Privacy"
   ]
  },
  {
   "cell_type": "markdown",
   "id": "ef8e93b3",
   "metadata": {},
   "source": [
    "Welcome to Lesson 4!\n",
    "\n",
    "To access the `requirements.txt` and `utils4.py` file for this course, go to `File` and click `Open`."
   ]
  },
  {
   "cell_type": "markdown",
   "id": "2a78489d",
   "metadata": {},
   "source": [
    "#### 1. Load imports"
   ]
  },
  {
   "cell_type": "code",
   "execution_count": 1,
   "id": "58a8f229-c293-4321-9c0c-cd2676bb9a33",
   "metadata": {
    "height": 149
   },
   "outputs": [],
   "source": [
    "from flwr.client.mod import adaptiveclipping_mod\n",
    "from flwr.server.strategy import (\n",
    "    DifferentialPrivacyClientSideAdaptiveClipping,\n",
    "    FedAvg,\n",
    ")\n",
    "\n",
    "from utils4 import *"
   ]
  },
  {
   "cell_type": "markdown",
   "id": "7ee88090",
   "metadata": {},
   "source": [
    "#### 2. Load the MNIST dataset"
   ]
  },
  {
   "cell_type": "markdown",
   "id": "5eb0f3f1",
   "metadata": {},
   "source": [
    "* Use `flwr-datasets` that provides with a Federated Dataset abstraction."
   ]
  },
  {
   "cell_type": "code",
   "execution_count": 2,
   "id": "1d9cd2e2-0581-43c9-aafb-ab9d0c8af6f8",
   "metadata": {
    "height": 217
   },
   "outputs": [],
   "source": [
    "def load_data(partition_id):\n",
    "    fds = FederatedDataset(dataset=\"mnist\", partitioners={\"train\": 10})\n",
    "    partition = fds.load_partition(partition_id)\n",
    "\n",
    "    traintest = partition.train_test_split(test_size=0.2, seed=42)\n",
    "    traintest = traintest.with_transform(normalize)\n",
    "    trainset, testset = traintest[\"train\"], traintest[\"test\"]\n",
    "\n",
    "    trainloader = DataLoader(trainset, batch_size=64, shuffle=True)\n",
    "    testloader = DataLoader(testset, batch_size=64)\n",
    "    return trainloader, testloader"
   ]
  },
  {
   "cell_type": "markdown",
   "id": "84cad9d9",
   "metadata": {},
   "source": [
    "#### 3. Define the Model"
   ]
  },
  {
   "cell_type": "markdown",
   "id": "aa8abe99",
   "metadata": {},
   "source": [
    "* Define the FlowerClient."
   ]
  },
  {
   "cell_type": "code",
   "execution_count": 3,
   "id": "4da8c4f5-3edb-4017-8d6f-7160c3b51858",
   "metadata": {
    "height": 404
   },
   "outputs": [],
   "source": [
    "class FlowerClient(NumPyClient):\n",
    "    def __init__(self, net, trainloader, testloader):\n",
    "        self.net = net\n",
    "        self.trainloader = trainloader\n",
    "        self.testloader = testloader\n",
    "\n",
    "    def fit(self, parameters, config):\n",
    "        set_weights(self.net, parameters)\n",
    "        train_model(self.net, self.trainloader)\n",
    "        return get_weights(self.net), len(self.trainloader), {}\n",
    "\n",
    "    def evaluate(self, parameters, config):\n",
    "        set_weights(self.net, parameters)\n",
    "        loss, accuracy = evaluate_model(self.net, self.testloader)\n",
    "        return loss, len(self.testloader), {\"accuracy\": accuracy}\n",
    "\n",
    "\n",
    "def client_fn(context: Context) -> Client:\n",
    "    net = SimpleModel()\n",
    "    partition_id = int(context.node_config[\"partition-id\"])\n",
    "    trainloader, testloader = load_data(partition_id=partition_id)\n",
    "    return FlowerClient(net, trainloader, testloader).to_client()"
   ]
  },
  {
   "cell_type": "markdown",
   "id": "504a5f54",
   "metadata": {},
   "source": [
    "* Define the ClientApp."
   ]
  },
  {
   "cell_type": "code",
   "execution_count": 4,
   "id": "ec5473fc-585b-41ed-9ff8-6aaf5592a30b",
   "metadata": {
    "height": 98
   },
   "outputs": [],
   "source": [
    "client = ClientApp(\n",
    "    client_fn,\n",
    "    mods=[adaptiveclipping_mod],  # modifiers\n",
    ")"
   ]
  },
  {
   "cell_type": "markdown",
   "id": "64f661ed",
   "metadata": {},
   "source": [
    "* Define the Server side with the strategy FedAvg.\n",
    "\n",
    "**DP:** Differential Privacy."
   ]
  },
  {
   "cell_type": "code",
   "execution_count": 5,
   "id": "6b8f147a-9cb0-4ed9-b635-4106e93a0f7f",
   "metadata": {
    "height": 421
   },
   "outputs": [],
   "source": [
    "net = SimpleModel()\n",
    "params = ndarrays_to_parameters(get_weights(net))\n",
    "\n",
    "def server_fn(context: Context):\n",
    "    fedavg_without_dp = FedAvg(\n",
    "        fraction_fit=0.6,\n",
    "        fraction_evaluate=1.0,\n",
    "        initial_parameters=params,\n",
    "    )\n",
    "    fedavg_with_dp = DifferentialPrivacyClientSideAdaptiveClipping(\n",
    "        fedavg_without_dp,  # <- wrap the FedAvg strategy\n",
    "        noise_multiplier=0.3,\n",
    "        num_sampled_clients=6,\n",
    "    )\n",
    "    \n",
    "    # Adjust to 50 rounds to ensure DP guarantees hold\n",
    "    # with respect to the desired privacy budget\n",
    "    config = ServerConfig(num_rounds=5)\n",
    "    \n",
    "    return ServerAppComponents(\n",
    "        strategy=fedavg_with_dp,\n",
    "        config=config,\n",
    "    )"
   ]
  },
  {
   "cell_type": "code",
   "execution_count": 6,
   "id": "277e575f-582c-489a-9bee-d660ef88a4c4",
   "metadata": {
    "height": 30
   },
   "outputs": [],
   "source": [
    "server = ServerApp(server_fn=server_fn)"
   ]
  },
  {
   "cell_type": "markdown",
   "id": "29d25e55",
   "metadata": {},
   "source": [
    "* Run Client and Server apps."
   ]
  },
  {
   "cell_type": "markdown",
   "id": "43e4ab42-4b35-4fb7-9cb4-f45ca5919596",
   "metadata": {},
   "source": [
    "**Note**: This simulation may take approximately 7 to 10 minutes to complete all 50 rounds. "
   ]
  },
  {
   "cell_type": "code",
   "execution_count": 7,
   "id": "9057d6fe-7f7e-41fd-8312-7e4b7bc44189",
   "metadata": {
    "height": 115
   },
   "outputs": [
    {
     "name": "stderr",
     "output_type": "stream",
     "text": [
      "\u001b[92mINFO \u001b[0m: Starting Flower ServerApp, config: num_rounds=5, no round_timeout\n",
      "\u001b[92mINFO \u001b[0m: \n",
      "\u001b[92mINFO \u001b[0m: [INIT]\n",
      "\u001b[92mINFO \u001b[0m: Using initial global parameters provided by strategy\n",
      "\u001b[92mINFO \u001b[0m: Evaluating initial global parameters\n",
      "\u001b[92mINFO \u001b[0m: \n",
      "\u001b[92mINFO \u001b[0m: [ROUND 1]\n",
      "\u001b[92mINFO \u001b[0m: configure_fit: strategy sampled 6 clients (out of 10)\n",
      "\u001b[2m\u001b[36m(ClientAppActor pid=10607)\u001b[0m Using the latest cached version of the dataset since mnist couldn't be found on the Hugging Face Hub\n",
      "\u001b[2m\u001b[36m(ClientAppActor pid=10607)\u001b[0m Found the latest cached dataset configuration 'mnist' at /home/jovyan/.cache/huggingface/datasets/mnist/mnist/0.0.0/77f3279092a1c1579b2250db8eafed0ad422088c (last modified on Sat Sep 13 17:08:51 2025).\n",
      "\u001b[2m\u001b[36m(ClientAppActor pid=10611)\u001b[0m \u001b[92mINFO \u001b[0m: adaptiveclipping_mod: parameters are clipped by value: 0.1000.\n",
      "\u001b[92mINFO \u001b[0m: aggregate_fit: received 6 results and 0 failures\n",
      "\u001b[92mINFO \u001b[0m: aggregate_fit: central DP noise with 0.0052 stdev added\n",
      "\u001b[92mINFO \u001b[0m: configure_evaluate: strategy sampled 10 clients (out of 10)\n",
      "\u001b[92mINFO \u001b[0m: aggregate_evaluate: received 10 results and 0 failures\n",
      "\u001b[92mINFO \u001b[0m: \n",
      "\u001b[92mINFO \u001b[0m: [ROUND 2]\n",
      "\u001b[92mINFO \u001b[0m: configure_fit: strategy sampled 6 clients (out of 10)\n",
      "\u001b[92mINFO \u001b[0m: aggregate_fit: received 6 results and 0 failures\n",
      "\u001b[92mINFO \u001b[0m: aggregate_fit: central DP noise with 0.0047 stdev added\n",
      "\u001b[92mINFO \u001b[0m: configure_evaluate: strategy sampled 10 clients (out of 10)\n",
      "\u001b[92mINFO \u001b[0m: aggregate_evaluate: received 10 results and 0 failures\n",
      "\u001b[92mINFO \u001b[0m: \n",
      "\u001b[92mINFO \u001b[0m: [ROUND 3]\n",
      "\u001b[92mINFO \u001b[0m: configure_fit: strategy sampled 6 clients (out of 10)\n",
      "\u001b[2m\u001b[36m(ClientAppActor pid=10607)\u001b[0m Using the latest cached version of the dataset since mnist couldn't be found on the Hugging Face Hub\u001b[32m [repeated 32x across cluster] (Ray deduplicates logs by default. Set RAY_DEDUP_LOGS=0 to disable log deduplication, or see https://docs.ray.io/en/master/ray-observability/ray-logging.html#log-deduplication for more options.)\u001b[0m\n",
      "\u001b[2m\u001b[36m(ClientAppActor pid=10607)\u001b[0m Found the latest cached dataset configuration 'mnist' at /home/jovyan/.cache/huggingface/datasets/mnist/mnist/0.0.0/77f3279092a1c1579b2250db8eafed0ad422088c (last modified on Sat Sep 13 17:08:51 2025).\u001b[32m [repeated 32x across cluster]\u001b[0m\n",
      "\u001b[2m\u001b[36m(ClientAppActor pid=10607)\u001b[0m \u001b[92mINFO \u001b[0m: adaptiveclipping_mod: parameters are clipped by value: 0.0811.\u001b[32m [repeated 12x across cluster]\u001b[0m\n",
      "\u001b[92mINFO \u001b[0m: aggregate_fit: received 6 results and 0 failures\n",
      "\u001b[92mINFO \u001b[0m: aggregate_fit: central DP noise with 0.0042 stdev added\n",
      "\u001b[92mINFO \u001b[0m: configure_evaluate: strategy sampled 10 clients (out of 10)\n",
      "\u001b[92mINFO \u001b[0m: aggregate_evaluate: received 10 results and 0 failures\n",
      "\u001b[92mINFO \u001b[0m: \n",
      "\u001b[92mINFO \u001b[0m: [ROUND 4]\n",
      "\u001b[92mINFO \u001b[0m: configure_fit: strategy sampled 6 clients (out of 10)\n",
      "\u001b[92mINFO \u001b[0m: aggregate_fit: received 6 results and 0 failures\n",
      "\u001b[92mINFO \u001b[0m: aggregate_fit: central DP noise with 0.0038 stdev added\n",
      "\u001b[92mINFO \u001b[0m: configure_evaluate: strategy sampled 10 clients (out of 10)\n",
      "\u001b[2m\u001b[36m(ClientAppActor pid=10607)\u001b[0m Using the latest cached version of the dataset since mnist couldn't be found on the Hugging Face Hub\u001b[32m [repeated 26x across cluster]\u001b[0m\n",
      "\u001b[2m\u001b[36m(ClientAppActor pid=10607)\u001b[0m Found the latest cached dataset configuration 'mnist' at /home/jovyan/.cache/huggingface/datasets/mnist/mnist/0.0.0/77f3279092a1c1579b2250db8eafed0ad422088c (last modified on Sat Sep 13 17:08:51 2025).\u001b[32m [repeated 26x across cluster]\u001b[0m\n",
      "\u001b[92mINFO \u001b[0m: aggregate_evaluate: received 10 results and 0 failures\n",
      "\u001b[92mINFO \u001b[0m: \n",
      "\u001b[92mINFO \u001b[0m: [ROUND 5]\n",
      "\u001b[92mINFO \u001b[0m: configure_fit: strategy sampled 6 clients (out of 10)\n",
      "\u001b[2m\u001b[36m(ClientAppActor pid=10612)\u001b[0m \u001b[92mINFO \u001b[0m: adaptiveclipping_mod: parameters are clipped by value: 0.0729.\u001b[32m [repeated 11x across cluster]\u001b[0m\n",
      "\u001b[92mINFO \u001b[0m: aggregate_fit: received 6 results and 0 failures\n",
      "\u001b[92mINFO \u001b[0m: aggregate_fit: central DP noise with 0.0035 stdev added\n",
      "\u001b[92mINFO \u001b[0m: configure_evaluate: strategy sampled 10 clients (out of 10)\n",
      "\u001b[92mINFO \u001b[0m: aggregate_evaluate: received 10 results and 0 failures\n",
      "\u001b[92mINFO \u001b[0m: \n",
      "\u001b[92mINFO \u001b[0m: [SUMMARY]\n",
      "\u001b[92mINFO \u001b[0m: Run finished 5 round(s) in 20.95s\n",
      "\u001b[92mINFO \u001b[0m: \tHistory (loss, distributed):\n",
      "\u001b[92mINFO \u001b[0m: \t\tround 1: 43.05066909790039\n",
      "\u001b[92mINFO \u001b[0m: \t\tround 2: 42.0030131816864\n",
      "\u001b[92mINFO \u001b[0m: \t\tround 3: 40.9791818857193\n",
      "\u001b[92mINFO \u001b[0m: \t\tround 4: 39.87707076072693\n",
      "\u001b[92mINFO \u001b[0m: \t\tround 5: 38.964661395549776\n",
      "\u001b[92mINFO \u001b[0m: \n",
      "\u001b[2m\u001b[36m(ClientAppActor pid=10612)\u001b[0m Using the latest cached version of the dataset since mnist couldn't be found on the Hugging Face Hub\u001b[32m [repeated 21x across cluster]\u001b[0m\n",
      "\u001b[2m\u001b[36m(ClientAppActor pid=10612)\u001b[0m Found the latest cached dataset configuration 'mnist' at /home/jovyan/.cache/huggingface/datasets/mnist/mnist/0.0.0/77f3279092a1c1579b2250db8eafed0ad422088c (last modified on Sat Sep 13 17:08:51 2025).\u001b[32m [repeated 21x across cluster]\u001b[0m\n",
      "\u001b[2m\u001b[36m(ClientAppActor pid=10612)\u001b[0m \u001b[92mINFO \u001b[0m: adaptiveclipping_mod: parameters are clipped by value: 0.0665.\u001b[32m [repeated 6x across cluster]\u001b[0m\n"
     ]
    }
   ],
   "source": [
    "run_simulation(server_app=server,\n",
    "               client_app=client,\n",
    "               num_supernodes=10,\n",
    "               backend_config=backend_setup\n",
    "               )"
   ]
  }
 ],
 "metadata": {
  "kernelspec": {
   "display_name": "Python 3 (ipykernel)",
   "language": "python",
   "name": "python3"
  },
  "language_info": {
   "codemirror_mode": {
    "name": "ipython",
    "version": 3
   },
   "file_extension": ".py",
   "mimetype": "text/x-python",
   "name": "python",
   "nbconvert_exporter": "python",
   "pygments_lexer": "ipython3",
   "version": "3.11.9"
  }
 },
 "nbformat": 4,
 "nbformat_minor": 5
}
